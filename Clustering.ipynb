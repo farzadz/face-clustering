{
 "cells": [
  {
   "cell_type": "code",
   "execution_count": 3,
   "metadata": {},
   "outputs": [
    {
     "name": "stdout",
     "output_type": "stream",
     "text": [
      "Model directory: ./models/20180204-160909/\n",
      "Metagraph file: model-20180204-160909.meta\n",
      "Checkpoint file: model-20180204-160909.ckpt-266000\n",
      "WARNING:tensorflow:The saved meta_graph is possibly from an older release:\n",
      "'model_variables' collection should be of type 'byte_list', but instead is of type 'node_list'.\n",
      "INFO:tensorflow:Restoring parameters from ./models/20180204-160909/model-20180204-160909.ckpt-266000\n",
      "WARNING:tensorflow:From /home/farzad/Desktop/faceClustering/detection/mtcnn/detect_face.py:210: calling reduce_max (from tensorflow.python.ops.math_ops) with keep_dims is deprecated and will be removed in a future version.\n",
      "Instructions for updating:\n",
      "keep_dims is deprecated, use keepdims instead\n",
      "WARNING:tensorflow:From /home/farzad/Desktop/faceClustering/detection/mtcnn/detect_face.py:212: calling reduce_sum (from tensorflow.python.ops.math_ops) with keep_dims is deprecated and will be removed in a future version.\n",
      "Instructions for updating:\n",
      "keep_dims is deprecated, use keepdims instead\n"
     ]
    }
   ],
   "source": [
    "import matplotlib.pyplot as plt\n",
    "import numpy as np\n",
    "\n",
    "import FaceToolKit as ftk\n",
    "import DetectionToolKit as dtk\n",
    "\n",
    "\n",
    "\n",
    "\n",
    "image_size = 160\n",
    "v = ftk.Verification()\n",
    "# Pre-load model for Verification\n",
    "v.load_model(\"./models/20180204-160909/\")\n",
    "v.initial_input_output_tensors()\n",
    "\n",
    "\n",
    "d = dtk.Detection()"
   ]
  },
  {
   "cell_type": "code",
   "execution_count": 4,
   "metadata": {},
   "outputs": [],
   "source": [
    "from sklearn.cluster import DBSCAN\n",
    "from imutils import build_montages\n",
    "import numpy as np\n",
    "import argparse\n",
    "import pickle\n",
    "import cv2"
   ]
  },
  {
   "cell_type": "code",
   "execution_count": 5,
   "metadata": {},
   "outputs": [],
   "source": [
    "def img_to_encoding(img):\n",
    "    aligned = d.align(img, False)[0]\n",
    "    return v.img_to_encoding(aligned, image_size)"
   ]
  },
  {
   "cell_type": "code",
   "execution_count": null,
   "metadata": {},
   "outputs": [],
   "source": []
  },
  {
   "cell_type": "code",
   "execution_count": 7,
   "metadata": {},
   "outputs": [],
   "source": [
    "import os\n",
    "images = []\n",
    "image_names = []\n",
    "\n",
    "for img in os.listdir('./faces/clare'):\n",
    "    images.append(plt.imread('./faces/clare/' + img))\n",
    "    image_names.append(img)\n"
   ]
  },
  {
   "cell_type": "code",
   "execution_count": 8,
   "metadata": {},
   "outputs": [],
   "source": [
    "encodings = [img_to_encoding(img) for img in images]"
   ]
  },
  {
   "cell_type": "code",
   "execution_count": 9,
   "metadata": {},
   "outputs": [
    {
     "data": {
      "text/plain": [
       "DBSCAN(algorithm='auto', eps=0.8, leaf_size=30, metric='euclidean',\n",
       "    metric_params=None, min_samples=5, n_jobs=3, p=None)"
      ]
     },
     "execution_count": 9,
     "metadata": {},
     "output_type": "execute_result"
    }
   ],
   "source": [
    "clt = DBSCAN(eps=0.8, metric=\"euclidean\", n_jobs=3)\n",
    "clt.fit(encodings)"
   ]
  },
  {
   "cell_type": "code",
   "execution_count": 10,
   "metadata": {},
   "outputs": [
    {
     "data": {
      "text/plain": [
       "DBSCAN(algorithm='auto', eps=0.8, leaf_size=30, metric='euclidean',\n",
       "    metric_params=None, min_samples=5, n_jobs=3, p=None)"
      ]
     },
     "execution_count": 10,
     "metadata": {},
     "output_type": "execute_result"
    }
   ],
   "source": [
    "clt"
   ]
  },
  {
   "cell_type": "code",
   "execution_count": 11,
   "metadata": {},
   "outputs": [
    {
     "data": {
      "text/plain": [
       "array([ 0,  0, -1, -1, -1, -1, -1, -1, -1,  0,  0,  0, -1, -1, -1, -1, -1,\n",
       "        0,  0, -1,  0, -1, -1,  0,  0,  0,  0,  0,  0,  0, -1,  0,  0,  0,\n",
       "       -1,  0, -1,  0, -1, -1, -1, -1,  0, -1,  0,  0, -1, -1,  0,  0,  0,\n",
       "        0, -1,  0,  0,  0, -1, -1,  0, -1, -1, -1,  0, -1,  0, -1, -1, -1,\n",
       "       -1,  0, -1,  0,  0, -1, -1, -1,  0, -1,  0,  0])"
      ]
     },
     "execution_count": 11,
     "metadata": {},
     "output_type": "execute_result"
    }
   ],
   "source": [
    "clt.labels_"
   ]
  },
  {
   "cell_type": "code",
   "execution_count": 12,
   "metadata": {},
   "outputs": [
    {
     "data": {
      "text/plain": [
       "80"
      ]
     },
     "execution_count": 12,
     "metadata": {},
     "output_type": "execute_result"
    }
   ],
   "source": [
    "len(images)"
   ]
  },
  {
   "cell_type": "code",
   "execution_count": 13,
   "metadata": {},
   "outputs": [
    {
     "data": {
      "text/plain": [
       "39"
      ]
     },
     "execution_count": 13,
     "metadata": {},
     "output_type": "execute_result"
    }
   ],
   "source": [
    "len(clt.labels_[clt.labels_ == 0])"
   ]
  },
  {
   "cell_type": "code",
   "execution_count": 14,
   "metadata": {},
   "outputs": [],
   "source": [
    "# for i in range(len(clt.labels_)):\n",
    "#     if clt.labels_[i] == 0:\n",
    "#         plt.imshow(images[i])\n",
    "#         plt.show()"
   ]
  },
  {
   "cell_type": "code",
   "execution_count": 17,
   "metadata": {},
   "outputs": [],
   "source": [
    "import os\n",
    "import logging\n",
    "import matplotlib.pyplot as plt\n",
    "\n",
    "logging.basicConfig(filename='pruning.log', filemode='w', format='%(name)s - %(levelname)s - %(message)s')\n",
    "\n",
    "\n",
    "def prune_faces_from_dir(directory):\n",
    "        \n",
    "    if not os.path.exists('./cleaned'):\n",
    "        os.makedirs('./cleaned')\n",
    "        \n",
    "    # dangerous!\n",
    "    extracted_dir = os.path.join('./cleaned', directory.split('/')[-1])\n",
    "\n",
    "    if not os.path.exists(extracted_dir):\n",
    "        os.makedirs(extracted_dir)\n",
    "    for parent ,__, files in os.walk(directory):\n",
    "        num_faces = 0\n",
    "        images = []\n",
    "        image_names = []\n",
    "        for file in files:\n",
    "            images.append(plt.imread(parent + '/' + file))\n",
    "            image_names.append(file)\n",
    "        encodings = [img_to_encoding(img) for img in images]\n",
    "  \n",
    "        \n",
    "        clt = DBSCAN(eps=0.8, metric=\"euclidean\", n_jobs=3)\n",
    "        clt.fit(encodings)\n",
    "        relevant_images = [images[i] for i in range(len(images)) if clt.labels_[i] == 0]\n",
    "        for i, face in enumerate(relevant_images):\n",
    "\n",
    "            plt.imsave(os.path.join(extracted_dir, str(i) + '.jpg'), face)\n",
    "#             except Exception as e:\n",
    "#                 logging.error(\"Failed extraction for file: {}, {}\".format(file, e))\n",
    "#     logging.info(\"Extracted {} faces from {} directory\".format(num_faces, parent))"
   ]
  },
  {
   "cell_type": "code",
   "execution_count": 18,
   "metadata": {},
   "outputs": [],
   "source": [
    "prune_faces_from_dir('./faces/clare')"
   ]
  },
  {
   "cell_type": "code",
   "execution_count": null,
   "metadata": {},
   "outputs": [],
   "source": []
  },
  {
   "cell_type": "code",
   "execution_count": null,
   "metadata": {},
   "outputs": [],
   "source": []
  }
 ],
 "metadata": {
  "kernelspec": {
   "display_name": "Python 3",
   "language": "python",
   "name": "python3"
  },
  "language_info": {
   "codemirror_mode": {
    "name": "ipython",
    "version": 3
   },
   "file_extension": ".py",
   "mimetype": "text/x-python",
   "name": "python",
   "nbconvert_exporter": "python",
   "pygments_lexer": "ipython3",
   "version": "3.5.2"
  }
 },
 "nbformat": 4,
 "nbformat_minor": 2
}
